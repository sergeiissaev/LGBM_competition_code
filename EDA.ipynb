{
 "cells": [
  {
   "cell_type": "markdown",
   "metadata": {},
   "source": [
    "# Sepsis function\n",
    "## By Sergei Issaev\n",
    "## EDA"
   ]
  },
  {
   "cell_type": "markdown",
   "metadata": {},
   "source": [
    "### Import Libraries"
   ]
  },
  {
   "cell_type": "code",
   "execution_count": 37,
   "metadata": {},
   "outputs": [],
   "source": [
    "import pandas as pd\n",
    "from sklearn.model_selection import train_test_split\n",
    "import lightgbm as lgb\n",
    "from sklearn.preprocessing import StandardScaler\n",
    "from sklearn.metrics import accuracy_score, roc_auc_score\n",
    "import numpy as np\n",
    "RANDOM_STATE = 74"
   ]
  },
  {
   "cell_type": "markdown",
   "metadata": {},
   "source": [
    "### Load in Data"
   ]
  },
  {
   "cell_type": "code",
   "execution_count": 38,
   "metadata": {},
   "outputs": [],
   "source": [
    "df_train = pd.read_csv('training.csv')\n",
    "df_test = pd.read_csv('testing.csv')\n",
    "df_all = pd.concat([df_train, df_test], sort=True).reset_index(drop=True)"
   ]
  },
  {
   "cell_type": "markdown",
   "metadata": {},
   "source": [
    "### Lazy EDA"
   ]
  },
  {
   "cell_type": "code",
   "execution_count": 39,
   "metadata": {},
   "outputs": [
    {
     "data": {
      "text/html": [
       "<div>\n",
       "<style scoped>\n",
       "    .dataframe tbody tr th:only-of-type {\n",
       "        vertical-align: middle;\n",
       "    }\n",
       "\n",
       "    .dataframe tbody tr th {\n",
       "        vertical-align: top;\n",
       "    }\n",
       "\n",
       "    .dataframe thead th {\n",
       "        text-align: right;\n",
       "    }\n",
       "</style>\n",
       "<table border=\"1\" class=\"dataframe\">\n",
       "  <thead>\n",
       "    <tr style=\"text-align: right;\">\n",
       "      <th></th>\n",
       "      <th>level_0</th>\n",
       "      <th>Age</th>\n",
       "      <th>BUN</th>\n",
       "      <th>Creatinine</th>\n",
       "      <th>DBP</th>\n",
       "      <th>FiO2</th>\n",
       "      <th>Glucose</th>\n",
       "      <th>HR</th>\n",
       "      <th>Hct</th>\n",
       "      <th>Hgb</th>\n",
       "      <th>...</th>\n",
       "      <th>Magnesium</th>\n",
       "      <th>O2Sat</th>\n",
       "      <th>Potassium</th>\n",
       "      <th>Resp</th>\n",
       "      <th>SBP</th>\n",
       "      <th>SepsisLabel</th>\n",
       "      <th>Sex</th>\n",
       "      <th>Temp</th>\n",
       "      <th>WBC</th>\n",
       "      <th>pH</th>\n",
       "    </tr>\n",
       "  </thead>\n",
       "  <tbody>\n",
       "    <tr>\n",
       "      <th>0</th>\n",
       "      <td>0</td>\n",
       "      <td>65.71</td>\n",
       "      <td>24.701493</td>\n",
       "      <td>1.561401</td>\n",
       "      <td>62.834031</td>\n",
       "      <td>0.519281</td>\n",
       "      <td>132.268194</td>\n",
       "      <td>19.145484</td>\n",
       "      <td>30.893636</td>\n",
       "      <td>10.273107</td>\n",
       "      <td>...</td>\n",
       "      <td>2.047995</td>\n",
       "      <td>97.045014</td>\n",
       "      <td>4.129589</td>\n",
       "      <td>19.145484</td>\n",
       "      <td>121.760289</td>\n",
       "      <td>0</td>\n",
       "      <td>0</td>\n",
       "      <td>36.878981</td>\n",
       "      <td>11.407253</td>\n",
       "      <td>7.383057</td>\n",
       "    </tr>\n",
       "    <tr>\n",
       "      <th>1</th>\n",
       "      <td>1</td>\n",
       "      <td>65.71</td>\n",
       "      <td>14.000000</td>\n",
       "      <td>0.800000</td>\n",
       "      <td>52.000000</td>\n",
       "      <td>0.519281</td>\n",
       "      <td>132.268194</td>\n",
       "      <td>18.000000</td>\n",
       "      <td>27.600000</td>\n",
       "      <td>10.273107</td>\n",
       "      <td>...</td>\n",
       "      <td>1.700000</td>\n",
       "      <td>97.000000</td>\n",
       "      <td>4.129589</td>\n",
       "      <td>18.000000</td>\n",
       "      <td>107.500000</td>\n",
       "      <td>0</td>\n",
       "      <td>0</td>\n",
       "      <td>36.878981</td>\n",
       "      <td>11.407253</td>\n",
       "      <td>7.383057</td>\n",
       "    </tr>\n",
       "    <tr>\n",
       "      <th>2</th>\n",
       "      <td>2</td>\n",
       "      <td>65.71</td>\n",
       "      <td>24.701493</td>\n",
       "      <td>1.561401</td>\n",
       "      <td>61.500000</td>\n",
       "      <td>0.519281</td>\n",
       "      <td>253.000000</td>\n",
       "      <td>19.500000</td>\n",
       "      <td>30.893636</td>\n",
       "      <td>10.273107</td>\n",
       "      <td>...</td>\n",
       "      <td>2.047995</td>\n",
       "      <td>98.500000</td>\n",
       "      <td>5.000000</td>\n",
       "      <td>19.500000</td>\n",
       "      <td>124.500000</td>\n",
       "      <td>0</td>\n",
       "      <td>0</td>\n",
       "      <td>36.780000</td>\n",
       "      <td>11.407253</td>\n",
       "      <td>7.360000</td>\n",
       "    </tr>\n",
       "    <tr>\n",
       "      <th>3</th>\n",
       "      <td>3</td>\n",
       "      <td>65.71</td>\n",
       "      <td>24.701493</td>\n",
       "      <td>1.561401</td>\n",
       "      <td>58.500000</td>\n",
       "      <td>0.519281</td>\n",
       "      <td>132.268194</td>\n",
       "      <td>17.000000</td>\n",
       "      <td>30.893636</td>\n",
       "      <td>10.273107</td>\n",
       "      <td>...</td>\n",
       "      <td>2.047995</td>\n",
       "      <td>96.500000</td>\n",
       "      <td>4.129589</td>\n",
       "      <td>17.000000</td>\n",
       "      <td>117.500000</td>\n",
       "      <td>0</td>\n",
       "      <td>0</td>\n",
       "      <td>36.878981</td>\n",
       "      <td>11.407253</td>\n",
       "      <td>7.383057</td>\n",
       "    </tr>\n",
       "    <tr>\n",
       "      <th>4</th>\n",
       "      <td>4</td>\n",
       "      <td>65.71</td>\n",
       "      <td>24.701493</td>\n",
       "      <td>1.561401</td>\n",
       "      <td>61.000000</td>\n",
       "      <td>0.519281</td>\n",
       "      <td>132.268194</td>\n",
       "      <td>26.000000</td>\n",
       "      <td>30.893636</td>\n",
       "      <td>10.273107</td>\n",
       "      <td>...</td>\n",
       "      <td>2.047995</td>\n",
       "      <td>100.000000</td>\n",
       "      <td>4.129589</td>\n",
       "      <td>26.000000</td>\n",
       "      <td>125.000000</td>\n",
       "      <td>0</td>\n",
       "      <td>0</td>\n",
       "      <td>36.878981</td>\n",
       "      <td>11.407253</td>\n",
       "      <td>7.383057</td>\n",
       "    </tr>\n",
       "  </tbody>\n",
       "</table>\n",
       "<p>5 rows × 22 columns</p>\n",
       "</div>"
      ],
      "text/plain": [
       "   level_0    Age        BUN  Creatinine        DBP      FiO2     Glucose  \\\n",
       "0        0  65.71  24.701493    1.561401  62.834031  0.519281  132.268194   \n",
       "1        1  65.71  14.000000    0.800000  52.000000  0.519281  132.268194   \n",
       "2        2  65.71  24.701493    1.561401  61.500000  0.519281  253.000000   \n",
       "3        3  65.71  24.701493    1.561401  58.500000  0.519281  132.268194   \n",
       "4        4  65.71  24.701493    1.561401  61.000000  0.519281  132.268194   \n",
       "\n",
       "          HR        Hct        Hgb  ...  Magnesium       O2Sat  Potassium  \\\n",
       "0  19.145484  30.893636  10.273107  ...   2.047995   97.045014   4.129589   \n",
       "1  18.000000  27.600000  10.273107  ...   1.700000   97.000000   4.129589   \n",
       "2  19.500000  30.893636  10.273107  ...   2.047995   98.500000   5.000000   \n",
       "3  17.000000  30.893636  10.273107  ...   2.047995   96.500000   4.129589   \n",
       "4  26.000000  30.893636  10.273107  ...   2.047995  100.000000   4.129589   \n",
       "\n",
       "        Resp         SBP  SepsisLabel  Sex       Temp        WBC        pH  \n",
       "0  19.145484  121.760289            0    0  36.878981  11.407253  7.383057  \n",
       "1  18.000000  107.500000            0    0  36.878981  11.407253  7.383057  \n",
       "2  19.500000  124.500000            0    0  36.780000  11.407253  7.360000  \n",
       "3  17.000000  117.500000            0    0  36.878981  11.407253  7.383057  \n",
       "4  26.000000  125.000000            0    0  36.878981  11.407253  7.383057  \n",
       "\n",
       "[5 rows x 22 columns]"
      ]
     },
     "execution_count": 39,
     "metadata": {},
     "output_type": "execute_result"
    }
   ],
   "source": [
    "df_train.head()"
   ]
  },
  {
   "cell_type": "code",
   "execution_count": 40,
   "metadata": {},
   "outputs": [
    {
     "name": "stdout",
     "output_type": "stream",
     "text": [
      "Number of Training Examples = 199393\n",
      "Number of Test Examples = 38713\n",
      "\n",
      "Training X Shape = (199393, 22)\n",
      "Training y Shape = 199393\n",
      "\n",
      "Test X Shape = (38713, 22)\n",
      "Test y Shape = 38713\n",
      "\n",
      "Index(['level_0', 'Age', 'BUN', 'Creatinine', 'DBP', 'FiO2', 'Glucose', 'HR',\n",
      "       'Hct', 'Hgb', 'ICULOS', 'MAP', 'Magnesium', 'O2Sat', 'Potassium',\n",
      "       'Resp', 'SBP', 'SepsisLabel', 'Sex', 'Temp', 'WBC', 'pH'],\n",
      "      dtype='object')\n",
      "Index(['level_0', 'Age', 'BUN', 'Creatinine', 'DBP', 'FiO2', 'Glucose', 'HR',\n",
      "       'Hct', 'Hgb', 'ICULOS', 'MAP', 'Magnesium', 'O2Sat', 'Potassium',\n",
      "       'Resp', 'SBP', 'SepsisLabel', 'Sex', 'Temp', 'WBC', 'pH'],\n",
      "      dtype='object')\n"
     ]
    }
   ],
   "source": [
    "print('Number of Training Examples = {}'.format(df_train.shape[0]))\n",
    "print('Number of Test Examples = {}\\n'.format(df_test.shape[0]))\n",
    "print('Training X Shape = {}'.format(df_train.shape))\n",
    "print('Training y Shape = {}\\n'.format(df_train['SepsisLabel'].shape[0]))\n",
    "print('Test X Shape = {}'.format(df_test.shape))\n",
    "print('Test y Shape = {}\\n'.format(df_test.shape[0]))\n",
    "print(df_train.columns)\n",
    "print(df_test.columns)"
   ]
  },
  {
   "cell_type": "markdown",
   "metadata": {},
   "source": [
    "age = age <br>\n",
    "bun = blood urea nitrogen <br>\n",
    "creatinine = lab value <br>\n",
    "dbp = diastolic bp <br>\n",
    "fi02 = fraction of inspired oxygen<br>\n",
    "glucose = serum glucose<br>\n",
    "hr = heart rate<br>\n",
    "hct = hematocrit<br>\n",
    "hgb = hemoglobin<br>\n",
    "iculos = hours since icu admit <br>\n",
    "map = mean arterial bp<br>\n",
    "magnesium = lab value<br>\n",
    "o2sat = pulse oximetry<br>\n",
    "potassium = lab value <br>\n",
    "resp = respiration rate<br>\n",
    "sbp = systolic bp<br>\n",
    "sepsislabel = target value<br>\n",
    "sex = gender<br>\n",
    "temp = temperature<br>\n",
    "wbc = leukocyte count<br>\n",
    "pH = acidity<br>\n"
   ]
  },
  {
   "cell_type": "code",
   "execution_count": 41,
   "metadata": {},
   "outputs": [
    {
     "name": "stdout",
     "output_type": "stream",
     "text": [
      "<class 'pandas.core.frame.DataFrame'>\n",
      "RangeIndex: 199393 entries, 0 to 199392\n",
      "Data columns (total 22 columns):\n",
      "level_0        199393 non-null int64\n",
      "Age            199393 non-null float64\n",
      "BUN            199393 non-null float64\n",
      "Creatinine     199393 non-null float64\n",
      "DBP            199393 non-null float64\n",
      "FiO2           199393 non-null float64\n",
      "Glucose        199393 non-null float64\n",
      "HR             199393 non-null float64\n",
      "Hct            199393 non-null float64\n",
      "Hgb            199393 non-null float64\n",
      "ICULOS         199393 non-null int64\n",
      "MAP            199393 non-null float64\n",
      "Magnesium      199393 non-null float64\n",
      "O2Sat          199393 non-null float64\n",
      "Potassium      199393 non-null float64\n",
      "Resp           199393 non-null float64\n",
      "SBP            199393 non-null float64\n",
      "SepsisLabel    199393 non-null int64\n",
      "Sex            199393 non-null int64\n",
      "Temp           199393 non-null float64\n",
      "WBC            199393 non-null float64\n",
      "pH             199393 non-null float64\n",
      "dtypes: float64(18), int64(4)\n",
      "memory usage: 33.5 MB\n",
      "None\n"
     ]
    },
    {
     "data": {
      "text/html": [
       "<div>\n",
       "<style scoped>\n",
       "    .dataframe tbody tr th:only-of-type {\n",
       "        vertical-align: middle;\n",
       "    }\n",
       "\n",
       "    .dataframe tbody tr th {\n",
       "        vertical-align: top;\n",
       "    }\n",
       "\n",
       "    .dataframe thead th {\n",
       "        text-align: right;\n",
       "    }\n",
       "</style>\n",
       "<table border=\"1\" class=\"dataframe\">\n",
       "  <thead>\n",
       "    <tr style=\"text-align: right;\">\n",
       "      <th></th>\n",
       "      <th>level_0</th>\n",
       "      <th>Age</th>\n",
       "      <th>BUN</th>\n",
       "      <th>Creatinine</th>\n",
       "      <th>DBP</th>\n",
       "      <th>FiO2</th>\n",
       "      <th>Glucose</th>\n",
       "      <th>HR</th>\n",
       "      <th>Hct</th>\n",
       "      <th>Hgb</th>\n",
       "      <th>...</th>\n",
       "      <th>Magnesium</th>\n",
       "      <th>O2Sat</th>\n",
       "      <th>Potassium</th>\n",
       "      <th>Resp</th>\n",
       "      <th>SBP</th>\n",
       "      <th>SepsisLabel</th>\n",
       "      <th>Sex</th>\n",
       "      <th>Temp</th>\n",
       "      <th>WBC</th>\n",
       "      <th>pH</th>\n",
       "    </tr>\n",
       "  </thead>\n",
       "  <tbody>\n",
       "    <tr>\n",
       "      <th>97654</th>\n",
       "      <td>97654</td>\n",
       "      <td>42.0</td>\n",
       "      <td>24.701493</td>\n",
       "      <td>1.561401</td>\n",
       "      <td>62.834031</td>\n",
       "      <td>0.519281</td>\n",
       "      <td>132.268194</td>\n",
       "      <td>19.145484</td>\n",
       "      <td>30.893636</td>\n",
       "      <td>10.273107</td>\n",
       "      <td>...</td>\n",
       "      <td>2.047995</td>\n",
       "      <td>97.045014</td>\n",
       "      <td>4.129589</td>\n",
       "      <td>19.145484</td>\n",
       "      <td>121.760289</td>\n",
       "      <td>0</td>\n",
       "      <td>1</td>\n",
       "      <td>36.878981</td>\n",
       "      <td>11.407253</td>\n",
       "      <td>7.383057</td>\n",
       "    </tr>\n",
       "    <tr>\n",
       "      <th>101972</th>\n",
       "      <td>101972</td>\n",
       "      <td>50.0</td>\n",
       "      <td>24.701493</td>\n",
       "      <td>1.561401</td>\n",
       "      <td>64.000000</td>\n",
       "      <td>0.519281</td>\n",
       "      <td>132.268194</td>\n",
       "      <td>25.000000</td>\n",
       "      <td>30.893636</td>\n",
       "      <td>10.273107</td>\n",
       "      <td>...</td>\n",
       "      <td>2.047995</td>\n",
       "      <td>99.000000</td>\n",
       "      <td>4.129589</td>\n",
       "      <td>25.000000</td>\n",
       "      <td>139.000000</td>\n",
       "      <td>0</td>\n",
       "      <td>0</td>\n",
       "      <td>37.300000</td>\n",
       "      <td>11.407253</td>\n",
       "      <td>7.383057</td>\n",
       "    </tr>\n",
       "    <tr>\n",
       "      <th>85023</th>\n",
       "      <td>85023</td>\n",
       "      <td>20.0</td>\n",
       "      <td>24.701493</td>\n",
       "      <td>1.561401</td>\n",
       "      <td>62.834031</td>\n",
       "      <td>0.519281</td>\n",
       "      <td>132.268194</td>\n",
       "      <td>18.000000</td>\n",
       "      <td>30.893636</td>\n",
       "      <td>10.273107</td>\n",
       "      <td>...</td>\n",
       "      <td>2.047995</td>\n",
       "      <td>100.000000</td>\n",
       "      <td>4.129589</td>\n",
       "      <td>18.000000</td>\n",
       "      <td>117.000000</td>\n",
       "      <td>0</td>\n",
       "      <td>1</td>\n",
       "      <td>37.170000</td>\n",
       "      <td>11.407253</td>\n",
       "      <td>7.383057</td>\n",
       "    </tr>\n",
       "  </tbody>\n",
       "</table>\n",
       "<p>3 rows × 22 columns</p>\n",
       "</div>"
      ],
      "text/plain": [
       "        level_0   Age        BUN  Creatinine        DBP      FiO2     Glucose  \\\n",
       "97654     97654  42.0  24.701493    1.561401  62.834031  0.519281  132.268194   \n",
       "101972   101972  50.0  24.701493    1.561401  64.000000  0.519281  132.268194   \n",
       "85023     85023  20.0  24.701493    1.561401  62.834031  0.519281  132.268194   \n",
       "\n",
       "               HR        Hct        Hgb  ...  Magnesium       O2Sat  \\\n",
       "97654   19.145484  30.893636  10.273107  ...   2.047995   97.045014   \n",
       "101972  25.000000  30.893636  10.273107  ...   2.047995   99.000000   \n",
       "85023   18.000000  30.893636  10.273107  ...   2.047995  100.000000   \n",
       "\n",
       "        Potassium       Resp         SBP  SepsisLabel  Sex       Temp  \\\n",
       "97654    4.129589  19.145484  121.760289            0    1  36.878981   \n",
       "101972   4.129589  25.000000  139.000000            0    0  37.300000   \n",
       "85023    4.129589  18.000000  117.000000            0    1  37.170000   \n",
       "\n",
       "              WBC        pH  \n",
       "97654   11.407253  7.383057  \n",
       "101972  11.407253  7.383057  \n",
       "85023   11.407253  7.383057  \n",
       "\n",
       "[3 rows x 22 columns]"
      ]
     },
     "execution_count": 41,
     "metadata": {},
     "output_type": "execute_result"
    }
   ],
   "source": [
    "print(df_train.info())\n",
    "df_train.sample(3)"
   ]
  },
  {
   "cell_type": "code",
   "execution_count": 42,
   "metadata": {},
   "outputs": [
    {
     "name": "stdout",
     "output_type": "stream",
     "text": [
      "<class 'pandas.core.frame.DataFrame'>\n",
      "RangeIndex: 38713 entries, 0 to 38712\n",
      "Data columns (total 22 columns):\n",
      "level_0        38713 non-null int64\n",
      "Age            38713 non-null float64\n",
      "BUN            38713 non-null float64\n",
      "Creatinine     38713 non-null float64\n",
      "DBP            38713 non-null float64\n",
      "FiO2           38713 non-null float64\n",
      "Glucose        38713 non-null float64\n",
      "HR             38713 non-null float64\n",
      "Hct            38713 non-null float64\n",
      "Hgb            38713 non-null float64\n",
      "ICULOS         38713 non-null int64\n",
      "MAP            38713 non-null float64\n",
      "Magnesium      38713 non-null float64\n",
      "O2Sat          38713 non-null float64\n",
      "Potassium      38713 non-null float64\n",
      "Resp           38713 non-null float64\n",
      "SBP            38713 non-null float64\n",
      "SepsisLabel    38713 non-null int64\n",
      "Sex            38713 non-null int64\n",
      "Temp           38713 non-null float64\n",
      "WBC            38713 non-null float64\n",
      "pH             38713 non-null float64\n",
      "dtypes: float64(18), int64(4)\n",
      "memory usage: 6.5 MB\n",
      "None\n"
     ]
    },
    {
     "data": {
      "text/html": [
       "<div>\n",
       "<style scoped>\n",
       "    .dataframe tbody tr th:only-of-type {\n",
       "        vertical-align: middle;\n",
       "    }\n",
       "\n",
       "    .dataframe tbody tr th {\n",
       "        vertical-align: top;\n",
       "    }\n",
       "\n",
       "    .dataframe thead th {\n",
       "        text-align: right;\n",
       "    }\n",
       "</style>\n",
       "<table border=\"1\" class=\"dataframe\">\n",
       "  <thead>\n",
       "    <tr style=\"text-align: right;\">\n",
       "      <th></th>\n",
       "      <th>level_0</th>\n",
       "      <th>Age</th>\n",
       "      <th>BUN</th>\n",
       "      <th>Creatinine</th>\n",
       "      <th>DBP</th>\n",
       "      <th>FiO2</th>\n",
       "      <th>Glucose</th>\n",
       "      <th>HR</th>\n",
       "      <th>Hct</th>\n",
       "      <th>Hgb</th>\n",
       "      <th>...</th>\n",
       "      <th>Magnesium</th>\n",
       "      <th>O2Sat</th>\n",
       "      <th>Potassium</th>\n",
       "      <th>Resp</th>\n",
       "      <th>SBP</th>\n",
       "      <th>SepsisLabel</th>\n",
       "      <th>Sex</th>\n",
       "      <th>Temp</th>\n",
       "      <th>WBC</th>\n",
       "      <th>pH</th>\n",
       "    </tr>\n",
       "  </thead>\n",
       "  <tbody>\n",
       "    <tr>\n",
       "      <th>30933</th>\n",
       "      <td>30933</td>\n",
       "      <td>50.0</td>\n",
       "      <td>24.701493</td>\n",
       "      <td>1.561401</td>\n",
       "      <td>74.000000</td>\n",
       "      <td>0.519281</td>\n",
       "      <td>132.268194</td>\n",
       "      <td>16.0</td>\n",
       "      <td>30.893636</td>\n",
       "      <td>10.273107</td>\n",
       "      <td>...</td>\n",
       "      <td>2.047995</td>\n",
       "      <td>96.0</td>\n",
       "      <td>4.129589</td>\n",
       "      <td>16.0</td>\n",
       "      <td>137.000000</td>\n",
       "      <td>0</td>\n",
       "      <td>1</td>\n",
       "      <td>36.878981</td>\n",
       "      <td>11.407253</td>\n",
       "      <td>7.383057</td>\n",
       "    </tr>\n",
       "    <tr>\n",
       "      <th>19558</th>\n",
       "      <td>19558</td>\n",
       "      <td>65.0</td>\n",
       "      <td>24.701493</td>\n",
       "      <td>1.561401</td>\n",
       "      <td>67.000000</td>\n",
       "      <td>0.519281</td>\n",
       "      <td>132.268194</td>\n",
       "      <td>28.0</td>\n",
       "      <td>30.893636</td>\n",
       "      <td>10.273107</td>\n",
       "      <td>...</td>\n",
       "      <td>2.047995</td>\n",
       "      <td>98.0</td>\n",
       "      <td>4.129589</td>\n",
       "      <td>28.0</td>\n",
       "      <td>99.000000</td>\n",
       "      <td>0</td>\n",
       "      <td>0</td>\n",
       "      <td>36.878981</td>\n",
       "      <td>11.407253</td>\n",
       "      <td>7.383057</td>\n",
       "    </tr>\n",
       "    <tr>\n",
       "      <th>5249</th>\n",
       "      <td>5249</td>\n",
       "      <td>75.9</td>\n",
       "      <td>24.701493</td>\n",
       "      <td>1.561401</td>\n",
       "      <td>62.834031</td>\n",
       "      <td>0.519281</td>\n",
       "      <td>132.268194</td>\n",
       "      <td>20.0</td>\n",
       "      <td>30.893636</td>\n",
       "      <td>10.273107</td>\n",
       "      <td>...</td>\n",
       "      <td>2.047995</td>\n",
       "      <td>95.0</td>\n",
       "      <td>4.129589</td>\n",
       "      <td>20.0</td>\n",
       "      <td>121.760289</td>\n",
       "      <td>0</td>\n",
       "      <td>1</td>\n",
       "      <td>37.560000</td>\n",
       "      <td>11.407253</td>\n",
       "      <td>7.383057</td>\n",
       "    </tr>\n",
       "  </tbody>\n",
       "</table>\n",
       "<p>3 rows × 22 columns</p>\n",
       "</div>"
      ],
      "text/plain": [
       "       level_0   Age        BUN  Creatinine        DBP      FiO2     Glucose  \\\n",
       "30933    30933  50.0  24.701493    1.561401  74.000000  0.519281  132.268194   \n",
       "19558    19558  65.0  24.701493    1.561401  67.000000  0.519281  132.268194   \n",
       "5249      5249  75.9  24.701493    1.561401  62.834031  0.519281  132.268194   \n",
       "\n",
       "         HR        Hct        Hgb  ...  Magnesium  O2Sat  Potassium  Resp  \\\n",
       "30933  16.0  30.893636  10.273107  ...   2.047995   96.0   4.129589  16.0   \n",
       "19558  28.0  30.893636  10.273107  ...   2.047995   98.0   4.129589  28.0   \n",
       "5249   20.0  30.893636  10.273107  ...   2.047995   95.0   4.129589  20.0   \n",
       "\n",
       "              SBP  SepsisLabel  Sex       Temp        WBC        pH  \n",
       "30933  137.000000            0    1  36.878981  11.407253  7.383057  \n",
       "19558   99.000000            0    0  36.878981  11.407253  7.383057  \n",
       "5249   121.760289            0    1  37.560000  11.407253  7.383057  \n",
       "\n",
       "[3 rows x 22 columns]"
      ]
     },
     "execution_count": 42,
     "metadata": {},
     "output_type": "execute_result"
    }
   ],
   "source": [
    "print(df_test.info())\n",
    "df_test.sample(3)"
   ]
  },
  {
   "cell_type": "code",
   "execution_count": 43,
   "metadata": {},
   "outputs": [
    {
     "name": "stdout",
     "output_type": "stream",
     "text": [
      "level_0 column missing values: 0\n",
      "Age column missing values: 0\n",
      "BUN column missing values: 0\n",
      "Creatinine column missing values: 0\n",
      "DBP column missing values: 0\n",
      "FiO2 column missing values: 0\n",
      "Glucose column missing values: 0\n",
      "HR column missing values: 0\n",
      "Hct column missing values: 0\n",
      "Hgb column missing values: 0\n",
      "ICULOS column missing values: 0\n",
      "MAP column missing values: 0\n",
      "Magnesium column missing values: 0\n",
      "O2Sat column missing values: 0\n",
      "Potassium column missing values: 0\n",
      "Resp column missing values: 0\n",
      "SBP column missing values: 0\n",
      "SepsisLabel column missing values: 0\n",
      "Sex column missing values: 0\n",
      "Temp column missing values: 0\n",
      "WBC column missing values: 0\n",
      "pH column missing values: 0\n"
     ]
    }
   ],
   "source": [
    "for col in df_train.columns.tolist():          \n",
    "    print('{} column missing values: {}'.format(col, df_train[col].isnull().sum()))"
   ]
  },
  {
   "cell_type": "code",
   "execution_count": 44,
   "metadata": {},
   "outputs": [
    {
     "name": "stdout",
     "output_type": "stream",
     "text": [
      "level_0 column missing values: 0\n",
      "Age column missing values: 0\n",
      "BUN column missing values: 0\n",
      "Creatinine column missing values: 0\n",
      "DBP column missing values: 0\n",
      "FiO2 column missing values: 0\n",
      "Glucose column missing values: 0\n",
      "HR column missing values: 0\n",
      "Hct column missing values: 0\n",
      "Hgb column missing values: 0\n",
      "ICULOS column missing values: 0\n",
      "MAP column missing values: 0\n",
      "Magnesium column missing values: 0\n",
      "O2Sat column missing values: 0\n",
      "Potassium column missing values: 0\n",
      "Resp column missing values: 0\n",
      "SBP column missing values: 0\n",
      "SepsisLabel column missing values: 0\n",
      "Sex column missing values: 0\n",
      "Temp column missing values: 0\n",
      "WBC column missing values: 0\n",
      "pH column missing values: 0\n"
     ]
    }
   ],
   "source": [
    "for col in df_test.columns.tolist():          \n",
    "    print('{} column missing values: {}'.format(col, df_train[col].isnull().sum()))"
   ]
  },
  {
   "cell_type": "markdown",
   "metadata": {},
   "source": [
    "### Rearrange columns"
   ]
  },
  {
   "cell_type": "code",
   "execution_count": 45,
   "metadata": {},
   "outputs": [],
   "source": [
    "trainer = df_train[[\"ICULOS\", \"HR\", \"O2Sat\", \"Temp\", \"SBP\", \"MAP\", \"DBP\", \"Resp\", \"FiO2\", \"pH\", \"BUN\", \"Creatinine\", \"Glucose\", \"Magnesium\", \"Potassium\", \"Hct\", \"Hgb\", \"WBC\", \"Age\", \"Sex\"]]"
   ]
  },
  {
   "cell_type": "code",
   "execution_count": 46,
   "metadata": {},
   "outputs": [
    {
     "data": {
      "text/html": [
       "<div>\n",
       "<style scoped>\n",
       "    .dataframe tbody tr th:only-of-type {\n",
       "        vertical-align: middle;\n",
       "    }\n",
       "\n",
       "    .dataframe tbody tr th {\n",
       "        vertical-align: top;\n",
       "    }\n",
       "\n",
       "    .dataframe thead th {\n",
       "        text-align: right;\n",
       "    }\n",
       "</style>\n",
       "<table border=\"1\" class=\"dataframe\">\n",
       "  <thead>\n",
       "    <tr style=\"text-align: right;\">\n",
       "      <th></th>\n",
       "      <th>ICULOS</th>\n",
       "      <th>HR</th>\n",
       "      <th>O2Sat</th>\n",
       "      <th>Temp</th>\n",
       "      <th>SBP</th>\n",
       "      <th>MAP</th>\n",
       "      <th>DBP</th>\n",
       "      <th>Resp</th>\n",
       "      <th>FiO2</th>\n",
       "      <th>pH</th>\n",
       "      <th>BUN</th>\n",
       "      <th>Creatinine</th>\n",
       "      <th>Glucose</th>\n",
       "      <th>Magnesium</th>\n",
       "      <th>Potassium</th>\n",
       "      <th>Hct</th>\n",
       "      <th>Hgb</th>\n",
       "      <th>WBC</th>\n",
       "      <th>Age</th>\n",
       "      <th>Sex</th>\n",
       "    </tr>\n",
       "  </thead>\n",
       "  <tbody>\n",
       "    <tr>\n",
       "      <th>2015</th>\n",
       "      <td>57</td>\n",
       "      <td>28.000000</td>\n",
       "      <td>94.000000</td>\n",
       "      <td>36.878981</td>\n",
       "      <td>102.000000</td>\n",
       "      <td>62.000000</td>\n",
       "      <td>62.834031</td>\n",
       "      <td>28.000000</td>\n",
       "      <td>0.519281</td>\n",
       "      <td>7.383057</td>\n",
       "      <td>24.701493</td>\n",
       "      <td>1.561401</td>\n",
       "      <td>132.268194</td>\n",
       "      <td>2.047995</td>\n",
       "      <td>4.129589</td>\n",
       "      <td>30.893636</td>\n",
       "      <td>10.273107</td>\n",
       "      <td>11.407253</td>\n",
       "      <td>68.55</td>\n",
       "      <td>1</td>\n",
       "    </tr>\n",
       "    <tr>\n",
       "      <th>90266</th>\n",
       "      <td>24</td>\n",
       "      <td>19.145484</td>\n",
       "      <td>97.045014</td>\n",
       "      <td>36.878981</td>\n",
       "      <td>121.760289</td>\n",
       "      <td>81.555129</td>\n",
       "      <td>62.834031</td>\n",
       "      <td>19.145484</td>\n",
       "      <td>0.519281</td>\n",
       "      <td>7.383057</td>\n",
       "      <td>24.701493</td>\n",
       "      <td>1.561401</td>\n",
       "      <td>132.268194</td>\n",
       "      <td>2.047995</td>\n",
       "      <td>4.129589</td>\n",
       "      <td>30.893636</td>\n",
       "      <td>10.273107</td>\n",
       "      <td>11.407253</td>\n",
       "      <td>66.00</td>\n",
       "      <td>0</td>\n",
       "    </tr>\n",
       "    <tr>\n",
       "      <th>19876</th>\n",
       "      <td>8</td>\n",
       "      <td>16.500000</td>\n",
       "      <td>99.000000</td>\n",
       "      <td>36.650000</td>\n",
       "      <td>123.500000</td>\n",
       "      <td>82.500000</td>\n",
       "      <td>60.500000</td>\n",
       "      <td>16.500000</td>\n",
       "      <td>0.519281</td>\n",
       "      <td>7.383057</td>\n",
       "      <td>24.701493</td>\n",
       "      <td>1.561401</td>\n",
       "      <td>218.000000</td>\n",
       "      <td>2.047995</td>\n",
       "      <td>4.129589</td>\n",
       "      <td>30.893636</td>\n",
       "      <td>10.273107</td>\n",
       "      <td>11.407253</td>\n",
       "      <td>76.37</td>\n",
       "      <td>1</td>\n",
       "    </tr>\n",
       "  </tbody>\n",
       "</table>\n",
       "</div>"
      ],
      "text/plain": [
       "       ICULOS         HR      O2Sat       Temp         SBP        MAP  \\\n",
       "2015       57  28.000000  94.000000  36.878981  102.000000  62.000000   \n",
       "90266      24  19.145484  97.045014  36.878981  121.760289  81.555129   \n",
       "19876       8  16.500000  99.000000  36.650000  123.500000  82.500000   \n",
       "\n",
       "             DBP       Resp      FiO2        pH        BUN  Creatinine  \\\n",
       "2015   62.834031  28.000000  0.519281  7.383057  24.701493    1.561401   \n",
       "90266  62.834031  19.145484  0.519281  7.383057  24.701493    1.561401   \n",
       "19876  60.500000  16.500000  0.519281  7.383057  24.701493    1.561401   \n",
       "\n",
       "          Glucose  Magnesium  Potassium        Hct        Hgb        WBC  \\\n",
       "2015   132.268194   2.047995   4.129589  30.893636  10.273107  11.407253   \n",
       "90266  132.268194   2.047995   4.129589  30.893636  10.273107  11.407253   \n",
       "19876  218.000000   2.047995   4.129589  30.893636  10.273107  11.407253   \n",
       "\n",
       "         Age  Sex  \n",
       "2015   68.55    1  \n",
       "90266  66.00    0  \n",
       "19876  76.37    1  "
      ]
     },
     "execution_count": 46,
     "metadata": {},
     "output_type": "execute_result"
    }
   ],
   "source": [
    "trainer.sample(3)"
   ]
  },
  {
   "cell_type": "code",
   "execution_count": 47,
   "metadata": {},
   "outputs": [],
   "source": [
    "#Select columns\n",
    "X = trainer.iloc[:, :].values\n",
    "y = df_train.iloc[:, list(df_train.columns).index('SepsisLabel')].values"
   ]
  },
  {
   "cell_type": "code",
   "execution_count": 48,
   "metadata": {},
   "outputs": [],
   "source": [
    "# Splitting the dataset into the training set and test set\n",
    "x_train, x_test, y_train, y_test = train_test_split(X, y, test_size = 0.25, random_state = RANDOM_STATE)"
   ]
  },
  {
   "cell_type": "code",
   "execution_count": 49,
   "metadata": {},
   "outputs": [],
   "source": [
    "# Feature scaling\n",
    "#sc = StandardScaler()\n",
    "#x_train = sc.fit_transform(x_train)\n",
    "#x_test = sc.transform(x_test)"
   ]
  },
  {
   "cell_type": "markdown",
   "metadata": {},
   "source": [
    "### Train Algorithm"
   ]
  },
  {
   "cell_type": "code",
   "execution_count": 50,
   "metadata": {},
   "outputs": [],
   "source": [
    "d_train = lgb.Dataset(x_train, label=y_train)"
   ]
  },
  {
   "cell_type": "code",
   "execution_count": 51,
   "metadata": {},
   "outputs": [
    {
     "name": "stdout",
     "output_type": "stream",
     "text": [
      "{'learning_rate': 0.5696838201637427, 'boosting_type': 'goss', 'objective': 'binary', 'metric': 'binary_logloss', 'sub_feature': 0.9447241251465222, 'num_leaves': 210, 'min_data': 80, 'max_depth': 177} 71\n"
     ]
    }
   ],
   "source": [
    "params = {} #initialize parameters\n",
    "params['learning_rate'] = np.random.uniform(0, 1)\n",
    "params['boosting_type'] = np.random.choice(['gbdt', 'dart', 'goss'])\n",
    "params['objective'] = 'binary'\n",
    "params['metric'] = 'binary_logloss'\n",
    "params['sub_feature'] = np.random.uniform(0, 1)\n",
    "params['num_leaves'] = np.random.randint(20, 300)\n",
    "params['min_data'] = np.random.randint(10, 100)\n",
    "params['max_depth'] = np.random.randint(5, 200)\n",
    "iterations = np.random.randint(10, 100)\n",
    "print(params, iterations)"
   ]
  },
  {
   "cell_type": "code",
   "execution_count": 52,
   "metadata": {},
   "outputs": [],
   "source": [
    "clf = lgb.train(params, d_train, iterations)"
   ]
  },
  {
   "cell_type": "markdown",
   "metadata": {},
   "source": [
    "### Make Predictions and Evaluate"
   ]
  },
  {
   "cell_type": "code",
   "execution_count": 53,
   "metadata": {},
   "outputs": [],
   "source": [
    "y_pred=clf.predict(x_test) #Create predictions on test set"
   ]
  },
  {
   "cell_type": "code",
   "execution_count": 54,
   "metadata": {},
   "outputs": [],
   "source": [
    "y_predx = y_pred.round(0)\n",
    "y_predx = y_predx.astype(int)"
   ]
  },
  {
   "cell_type": "code",
   "execution_count": 55,
   "metadata": {},
   "outputs": [
    {
     "data": {
      "text/plain": [
       "0.9775923288330759"
      ]
     },
     "execution_count": 55,
     "metadata": {},
     "output_type": "execute_result"
    }
   ],
   "source": [
    "accuracy_score(y_predx, y_test)"
   ]
  },
  {
   "cell_type": "code",
   "execution_count": 56,
   "metadata": {},
   "outputs": [
    {
     "data": {
      "text/plain": [
       "0.7519066180746052"
      ]
     },
     "execution_count": 56,
     "metadata": {},
     "output_type": "execute_result"
    }
   ],
   "source": [
    "roc_auc_score(y_predx, y_test)"
   ]
  },
  {
   "cell_type": "code",
   "execution_count": 57,
   "metadata": {},
   "outputs": [
    {
     "data": {
      "text/plain": [
       "1131"
      ]
     },
     "execution_count": 57,
     "metadata": {},
     "output_type": "execute_result"
    }
   ],
   "source": [
    "sum(y_test)"
   ]
  },
  {
   "cell_type": "code",
   "execution_count": 58,
   "metadata": {},
   "outputs": [
    {
     "data": {
      "text/plain": [
       "298"
      ]
     },
     "execution_count": 58,
     "metadata": {},
     "output_type": "execute_result"
    }
   ],
   "source": [
    "sum(y_predx)"
   ]
  },
  {
   "cell_type": "code",
   "execution_count": 59,
   "metadata": {},
   "outputs": [
    {
     "data": {
      "text/plain": [
       "<lightgbm.basic.Booster at 0x209105e85c8>"
      ]
     },
     "execution_count": 59,
     "metadata": {},
     "output_type": "execute_result"
    }
   ],
   "source": [
    "clf.save_model('lgbm_model.mdl')"
   ]
  }
 ],
 "metadata": {
  "kernelspec": {
   "display_name": "tfnew",
   "language": "python",
   "name": "tfnew"
  },
  "language_info": {
   "codemirror_mode": {
    "name": "ipython",
    "version": 3
   },
   "file_extension": ".py",
   "mimetype": "text/x-python",
   "name": "python",
   "nbconvert_exporter": "python",
   "pygments_lexer": "ipython3",
   "version": "3.7.6"
  }
 },
 "nbformat": 4,
 "nbformat_minor": 2
}
